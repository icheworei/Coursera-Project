{
 "cells": [
  {
   "cell_type": "markdown",
   "id": "f7cf578d-23d8-4ee0-91d3-7598c8611b1b",
   "metadata": {},
   "source": []
  },
  {
   "cell_type": "markdown",
   "id": "a3fa1f69-c9f4-403c-ae5d-d43ac56d24fb",
   "metadata": {},
   "source": [
    "# Data Science Tools and Ecosystem"
   ]
  },
  {
   "cell_type": "markdown",
   "id": "77324848-81e9-45b5-b6a7-6f07eb7569c2",
   "metadata": {},
   "source": [
    "## In this notebook, Data Science Tools and Ecosystem are summarized."
   ]
  },
  {
   "cell_type": "markdown",
   "id": "852e6213-0ca6-47bf-8f94-e0225be7a58e",
   "metadata": {},
   "source": [
    "### Some of the popular languages that Data Scientists use are:\n",
    "1. R\n",
    "2. Python\n",
    "3. SQL\n",
    "4. Jave\n",
    "5. Julia"
   ]
  },
  {
   "cell_type": "markdown",
   "id": "f472f149-4cb6-4685-aab9-f772cec5780d",
   "metadata": {},
   "source": [
    "# Objectives:\n",
    "* Some of the popular languages that Data Scientists\n",
    "* Some of the commonly used libraries used by Data Scientists\n",
    "* Data Science Tools\n",
    "* evaluating arithmetic expressions in Python\n",
    "* Data Science Tools and Ecosystem are summarized\n",
    "\n",
    "\n"
   ]
  },
  {
   "cell_type": "code",
   "execution_count": null,
   "id": "9a0094d6-6809-4eb8-ab39-d66b7d47dee9",
   "metadata": {},
   "outputs": [],
   "source": []
  },
  {
   "cell_type": "code",
   "execution_count": null,
   "id": "fa59bf30-62bf-4841-992b-15943f86e768",
   "metadata": {},
   "outputs": [],
   "source": []
  },
  {
   "cell_type": "markdown",
   "id": "2d9c57b7-1d52-480c-9f35-9f7372a691c7",
   "metadata": {},
   "source": [
    "## Some of the commonly used libraries used by Data Scientists include:\n",
    "1. Pandas\n",
    "2. Matplotlib\n",
    "3. Nampy\n",
    "4. Pytorch\n",
    "5. Scikit-Learn\n"
   ]
  },
  {
   "cell_type": "markdown",
   "id": "d013c891-5827-4df2-b6fa-6b8eff7d50f3",
   "metadata": {},
   "source": [
    "|Data Science Tools|\n",
    "|-------|\n",
    "|Rstudio|\n",
    "|Scikit|\n",
    "|TensorFlow|"
   ]
  },
  {
   "cell_type": "code",
   "execution_count": null,
   "id": "5dc9002e-e20d-46af-b6c7-d65e6d9a30ad",
   "metadata": {},
   "outputs": [],
   "source": []
  },
  {
   "cell_type": "markdown",
   "id": "bb240243-05b1-4f2f-8b40-5df4721be476",
   "metadata": {},
   "source": [
    "### Below are a few examples of evaluating arithmetic expressions in Python\n",
    "\n"
   ]
  },
  {
   "cell_type": "code",
   "execution_count": 1,
   "id": "97894d9b-a238-4dff-9acb-381dcb9b7359",
   "metadata": {},
   "outputs": [
    {
     "name": "stdout",
     "output_type": "stream",
     "text": [
      "5\n"
     ]
    }
   ],
   "source": [
    "x = 3\n",
    "y = 2\n",
    "\n",
    "z = x+y\n",
    "\n",
    "print (z)"
   ]
  },
  {
   "cell_type": "code",
   "execution_count": null,
   "id": "faac51a9-5346-4f56-a82e-61867b03a66e",
   "metadata": {},
   "outputs": [],
   "source": []
  },
  {
   "cell_type": "code",
   "execution_count": null,
   "id": "1b9ea9b5-2d23-4edf-9127-b96dd102e257",
   "metadata": {},
   "outputs": [],
   "source": []
  },
  {
   "cell_type": "markdown",
   "id": "88060c4a-14ee-4cfc-bf8a-8d5403177f1e",
   "metadata": {},
   "source": [
    "## Author\n",
    "Isaac Cheworei"
   ]
  },
  {
   "cell_type": "code",
   "execution_count": null,
   "id": "c20ae2fe-305f-4597-abc5-7f966a0c0964",
   "metadata": {},
   "outputs": [],
   "source": []
  },
  {
   "cell_type": "code",
   "execution_count": null,
   "id": "e4e1825e-0a18-4530-984f-36704629742c",
   "metadata": {},
   "outputs": [],
   "source": []
  },
  {
   "cell_type": "code",
   "execution_count": null,
   "id": "cdcff693-67b9-4e8d-9599-de8458650ca4",
   "metadata": {},
   "outputs": [],
   "source": []
  }
 ],
 "metadata": {
  "kernelspec": {
   "display_name": "Python 3 (ipykernel)",
   "language": "python",
   "name": "python3"
  },
  "language_info": {
   "codemirror_mode": {
    "name": "ipython",
    "version": 3
   },
   "file_extension": ".py",
   "mimetype": "text/x-python",
   "name": "python",
   "nbconvert_exporter": "python",
   "pygments_lexer": "ipython3",
   "version": "3.12.8"
  }
 },
 "nbformat": 4,
 "nbformat_minor": 5
}
